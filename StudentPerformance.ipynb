{
 "cells": [
  {
   "cell_type": "code",
   "execution_count": 1,
   "id": "465bae69-0113-43f4-a53a-d9f4e09c26d8",
   "metadata": {},
   "outputs": [],
   "source": [
    "import pandas as pd"
   ]
  },
  {
   "cell_type": "code",
   "execution_count": 7,
   "id": "623e4509-4836-4700-935c-67ad3c984fe9",
   "metadata": {},
   "outputs": [],
   "source": [
    "df = pd.read_csv(\"Downloads/student_performance.csv\")"
   ]
  },
  {
   "cell_type": "code",
   "execution_count": 9,
   "id": "85ade55e-26e6-4fc3-927e-dc8c4e89eb98",
   "metadata": {},
   "outputs": [
    {
     "name": "stdout",
     "output_type": "stream",
     "text": [
      "   StudentID  G1  G2  G3      Mjob     Fjob  age address  studytime  failures  \\\n",
      "0          1   6   2   2   teacher  at_home   21   rural          3         1   \n",
      "1          2  19  11  18    health  teacher   18   rural          1         1   \n",
      "2          3  14   7  19    health    other   20   urban          1         1   \n",
      "3          4  10   2   6  services   health   21   urban          3         1   \n",
      "4          5   7   0  19    health   health   18   rural          4         1   \n",
      "\n",
      "  schoolsup famsup paid activities nursery higher internet romantic  \n",
      "0        no    yes  yes        yes     yes    yes       no      yes  \n",
      "1        no     no   no         no     yes     no       no       no  \n",
      "2       yes    yes  yes         no      no     no      yes      yes  \n",
      "3       yes     no  yes         no     yes     no       no       no  \n",
      "4        no     no  yes         no     yes    yes      yes       no  \n"
     ]
    }
   ],
   "source": [
    "print(df.head())"
   ]
  },
  {
   "cell_type": "code",
   "execution_count": 39,
   "id": "3870739a-a1d2-43c8-b543-f38e52266ed9",
   "metadata": {},
   "outputs": [
    {
     "name": "stdout",
     "output_type": "stream",
     "text": [
      "\n",
      "Dataset Info:\n",
      "<class 'pandas.core.frame.DataFrame'>\n",
      "RangeIndex: 100 entries, 0 to 99\n",
      "Data columns (total 18 columns):\n",
      " #   Column      Non-Null Count  Dtype \n",
      "---  ------      --------------  ----- \n",
      " 0   StudentID   100 non-null    int64 \n",
      " 1   G1          100 non-null    int64 \n",
      " 2   G2          100 non-null    int64 \n",
      " 3   G3          100 non-null    int64 \n",
      " 4   Mjob        100 non-null    object\n",
      " 5   Fjob        100 non-null    object\n",
      " 6   age         100 non-null    int64 \n",
      " 7   address     100 non-null    object\n",
      " 8   studytime   100 non-null    int64 \n",
      " 9   failures    100 non-null    int64 \n",
      " 10  schoolsup   100 non-null    object\n",
      " 11  famsup      100 non-null    object\n",
      " 12  paid        100 non-null    object\n",
      " 13  activities  100 non-null    object\n",
      " 14  nursery     100 non-null    object\n",
      " 15  higher      100 non-null    object\n",
      " 16  internet    100 non-null    object\n",
      " 17  romantic    100 non-null    object\n",
      "dtypes: int64(7), object(11)\n",
      "memory usage: 14.2+ KB\n",
      "None\n"
     ]
    }
   ],
   "source": [
    "print(\"\\nDataset Info:\")\n",
    "print(df.info())"
   ]
  },
  {
   "cell_type": "code",
   "execution_count": 43,
   "id": "5839b7e2-a38a-47f2-83bc-c418c5cd810b",
   "metadata": {},
   "outputs": [
    {
     "name": "stdout",
     "output_type": "stream",
     "text": [
      "\n",
      "Dataset stattistics:\n",
      "        StudentID          G1          G2          G3         age  studytime  \\\n",
      "count  100.000000  100.000000  100.000000  100.000000  100.000000  100.00000   \n",
      "mean    50.500000    9.010000    8.710000    9.070000   18.180000    2.21000   \n",
      "std     29.011492    5.535003    6.107282    6.629068    1.940426    1.06643   \n",
      "min      1.000000    0.000000    0.000000    0.000000   15.000000    1.00000   \n",
      "25%     25.750000    4.750000    3.750000    2.000000   16.750000    1.00000   \n",
      "50%     50.500000    8.500000    8.000000    8.000000   18.000000    2.00000   \n",
      "75%     75.250000   14.000000   14.000000   15.000000   20.000000    3.00000   \n",
      "max    100.000000   19.000000   19.000000   19.000000   21.000000    4.00000   \n",
      "\n",
      "         failures  \n",
      "count  100.000000  \n",
      "mean     1.380000  \n",
      "std      1.080404  \n",
      "min      0.000000  \n",
      "25%      0.000000  \n",
      "50%      1.000000  \n",
      "75%      2.000000  \n",
      "max      3.000000  \n"
     ]
    }
   ],
   "source": [
    "print(\"\\nDataset stattistics:\")\n",
    "print(df.describe())"
   ]
  },
  {
   "cell_type": "code",
   "execution_count": 15,
   "id": "00b79517-df15-4d1e-b611-f6e8907e72a4",
   "metadata": {},
   "outputs": [
    {
     "data": {
      "text/plain": [
       "StudentID     100\n",
       "G1            100\n",
       "G2            100\n",
       "G3            100\n",
       "Mjob          100\n",
       "Fjob          100\n",
       "age           100\n",
       "address       100\n",
       "studytime     100\n",
       "failures      100\n",
       "schoolsup     100\n",
       "famsup        100\n",
       "paid          100\n",
       "activities    100\n",
       "nursery       100\n",
       "higher        100\n",
       "internet      100\n",
       "romantic      100\n",
       "dtype: int64"
      ]
     },
     "execution_count": 15,
     "metadata": {},
     "output_type": "execute_result"
    }
   ],
   "source": [
    "df.count()"
   ]
  },
  {
   "cell_type": "code",
   "execution_count": 17,
   "id": "3752e334-ceca-4600-b195-a6e499341e5a",
   "metadata": {},
   "outputs": [
    {
     "name": "stdout",
     "output_type": "stream",
     "text": [
      "\n",
      "Missing Values:\n",
      "StudentID     0\n",
      "G1            0\n",
      "G2            0\n",
      "G3            0\n",
      "Mjob          0\n",
      "Fjob          0\n",
      "age           0\n",
      "address       0\n",
      "studytime     0\n",
      "failures      0\n",
      "schoolsup     0\n",
      "famsup        0\n",
      "paid          0\n",
      "activities    0\n",
      "nursery       0\n",
      "higher        0\n",
      "internet      0\n",
      "romantic      0\n",
      "dtype: int64\n"
     ]
    }
   ],
   "source": [
    "print(\"\\nMissing Values:\")\n",
    "print(df.isnull().sum())"
   ]
  },
  {
   "cell_type": "code",
   "execution_count": null,
   "id": "785c2891-5975-471a-954d-07bf6cd6a1c3",
   "metadata": {},
   "outputs": [],
   "source": []
  }
 ],
 "metadata": {
  "kernelspec": {
   "display_name": "Python [conda env:base] *",
   "language": "python",
   "name": "conda-base-py"
  },
  "language_info": {
   "codemirror_mode": {
    "name": "ipython",
    "version": 3
   },
   "file_extension": ".py",
   "mimetype": "text/x-python",
   "name": "python",
   "nbconvert_exporter": "python",
   "pygments_lexer": "ipython3",
   "version": "3.12.7"
  }
 },
 "nbformat": 4,
 "nbformat_minor": 5
}
