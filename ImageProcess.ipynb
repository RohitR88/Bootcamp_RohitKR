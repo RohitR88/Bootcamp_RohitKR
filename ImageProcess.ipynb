{
 "cells": [
  {
   "cell_type": "code",
   "execution_count": 1,
   "id": "5ebfbf7d-6beb-4457-be27-f6d67d2fe4d2",
   "metadata": {},
   "outputs": [
    {
     "name": "stdout",
     "output_type": "stream",
     "text": [
      "Requirement already satisfied: opencv-python in c:\\users\\lenovo\\anaconda3\\lib\\site-packages (4.11.0.86)\n",
      "Requirement already satisfied: numpy>=1.21.2 in c:\\users\\lenovo\\anaconda3\\lib\\site-packages (from opencv-python) (1.26.4)\n"
     ]
    }
   ],
   "source": [
    "!pip install opencv-python"
   ]
  },
  {
   "cell_type": "code",
   "execution_count": 2,
   "id": "f60c31ec-0d51-41c4-8586-d495cbc3ab80",
   "metadata": {},
   "outputs": [],
   "source": [
    "import cv2\n",
    "import numpy as np\n",
    "import matplotlib.pyplot as plt"
   ]
  },
  {
   "cell_type": "code",
   "execution_count": 3,
   "id": "033df90d-d311-4290-b5d8-8df159b6e779",
   "metadata": {},
   "outputs": [],
   "source": [
    "img = cv2.imread(r\"sun.jpg\")"
   ]
  },
  {
   "cell_type": "code",
   "execution_count": 4,
   "id": "a644b428-93f9-433f-be5b-48409e2d8e3f",
   "metadata": {},
   "outputs": [
    {
     "name": "stdout",
     "output_type": "stream",
     "text": [
      "<class 'numpy.ndarray'>\n"
     ]
    }
   ],
   "source": [
    "print(type(img))"
   ]
  },
  {
   "cell_type": "code",
   "execution_count": null,
   "id": "ec23dbd9-b87a-451b-8179-d080f878e7b1",
   "metadata": {},
   "outputs": [],
   "source": [
    "cv2.imshow(\"sun\",img)\n",
    "cv2.waitKey(0)\n",
    "cv2.destroyAllWindows()"
   ]
  },
  {
   "cell_type": "code",
   "execution_count": null,
   "id": "4673cea3-6ff4-4024-9815-53ac035900cf",
   "metadata": {},
   "outputs": [],
   "source": [
    "print(img.shape)"
   ]
  },
  {
   "cell_type": "code",
   "execution_count": null,
   "id": "deb7c9d3-dd95-4aa2-aaaf-87d8c502587f",
   "metadata": {},
   "outputs": [],
   "source": [
    "img_resize = cv2.resize(img,(256,400))"
   ]
  },
  {
   "cell_type": "code",
   "execution_count": null,
   "id": "c7b776cd-df2b-4093-bb62-34b5e1f814d7",
   "metadata": {},
   "outputs": [],
   "source": [
    "cv2.imshow(\"sun\",img_resize)\n",
    "cv2.waitKey(0)\n",
    "cv2.destroyAllWindows()"
   ]
  },
  {
   "cell_type": "code",
   "execution_count": null,
   "id": "194772a9-e433-4be5-a7e7-4d4e8a543368",
   "metadata": {},
   "outputs": [],
   "source": [
    "print(img_resize.shape)"
   ]
  },
  {
   "cell_type": "code",
   "execution_count": null,
   "id": "9a86f611-c7d1-422f-959e-c28e4c03bd76",
   "metadata": {},
   "outputs": [],
   "source": [
    "img_flip = cv2.flip(img,1)"
   ]
  },
  {
   "cell_type": "code",
   "execution_count": null,
   "id": "c587b77c-de3b-49f8-b41b-a3503961626f",
   "metadata": {},
   "outputs": [],
   "source": [
    "cv2.imshow(\"flipped Image\",img_flip)\n",
    "cv2.waitKey(0)\n",
    "cv2.destroyAllWindows()"
   ]
  },
  {
   "cell_type": "code",
   "execution_count": null,
   "id": "6f9cca52-9d75-43d0-9ac1-14e76533f03b",
   "metadata": {},
   "outputs": [],
   "source": []
  }
 ],
 "metadata": {
  "kernelspec": {
   "display_name": "Python [conda env:base] *",
   "language": "python",
   "name": "conda-base-py"
  },
  "language_info": {
   "codemirror_mode": {
    "name": "ipython",
    "version": 3
   },
   "file_extension": ".py",
   "mimetype": "text/x-python",
   "name": "python",
   "nbconvert_exporter": "python",
   "pygments_lexer": "ipython3",
   "version": "3.12.7"
  }
 },
 "nbformat": 4,
 "nbformat_minor": 5
}
